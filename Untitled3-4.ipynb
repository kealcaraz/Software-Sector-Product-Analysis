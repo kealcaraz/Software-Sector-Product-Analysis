{
  "metadata": {
    "kernelspec": {
      "name": "python",
      "display_name": "Python (Pyodide)",
      "language": "python"
    },
    "language_info": {
      "codemirror_mode": {
        "name": "python",
        "version": 3
      },
      "file_extension": ".py",
      "mimetype": "text/x-python",
      "name": "python",
      "nbconvert_exporter": "python",
      "pygments_lexer": "ipython3",
      "version": "3.8"
    }
  },
  "nbformat_minor": 4,
  "nbformat": 4,
  "cells": [
    {
      "cell_type": "markdown",
      "source": "Importing pandas library and files to explorie and analyze.",
      "metadata": {}
    },
    {
      "cell_type": "code",
      "source": "import pandas as pd\naccts = pd.read_csv(r'accounts.csv')\npipe = pd.read_csv(r'sales_pipeline.csv')\nteams = pd.read_csv(r'sales_teams.csv')\nproduct=pd.read_csv(r'products.csv')",
      "metadata": {
        "trusted": true
      },
      "outputs": [],
      "execution_count": 45
    },
    {
      "cell_type": "markdown",
      "source": "The data received is from a firm who has contracts with a variety of companies all in differect secots. For this analysis, I will focus on the software sector. First I will create a summary table of the revenue and employees per sector to get an overview of the data we are working with.",
      "metadata": {}
    },
    {
      "cell_type": "code",
      "source": "sector=accts.sort_values(by=['sector'])\nsector=sector.drop(['account', 'year_established', 'subsidiary_of', 'office_location'], axis=1)\nsector=sector.groupby(['sector'])[['revenue', 'employees']].sum().sort_values('revenue')\nsector=sector.reset_index()\nprint(sector)",
      "metadata": {
        "trusted": true
      },
      "outputs": [
        {
          "name": "stdout",
          "text": "               sector   revenue  employees\n0            services   4944.69      13168\n1          employment   6104.64      16560\n2       entertainment   9665.22      17685\n3           marketing  13070.38      31805\n4             finance  16233.34      40091\n5  telecommunications  16461.91      42775\n6             medical  16976.88      36845\n7              retail  27355.76      60606\n8           technolgy  27780.53      56685\n9            software  30950.45      79950\n",
          "output_type": "stream"
        }
      ],
      "execution_count": 36
    },
    {
      "cell_type": "markdown",
      "source": "I will create a separate table with all the records for companies within the software sector.",
      "metadata": {}
    },
    {
      "cell_type": "code",
      "source": "sec=accts[accts['sector']=='software']\nprint(sec)",
      "metadata": {
        "trusted": true
      },
      "outputs": [
        {
          "name": "stdout",
          "text": "           account    sector  year_established   revenue  employees  \\\n7       Bubba Gump  software              2002    987.39       2253   \n10         Codehow  software              1998   2714.90       2641   \n13  Dalttechnology  software              2013     98.79         96   \n18        Dontechi  software              1982   4618.00      10083   \n41        Kan-code  software              1982  11698.03      34288   \n60        Scotfind  software              1996   6354.87      16780   \n83         Zotware  software              1979   4478.47      13809   \n\n   office_location     subsidiary_of  \n7    United States               NaN  \n10   United States  Acme Corporation  \n13   United States        Bubba Gump  \n18   United States               NaN  \n41   United States               NaN  \n60   United States        Bubba Gump  \n83   United States               NaN  \n",
          "output_type": "stream"
        }
      ],
      "execution_count": 84
    },
    {
      "cell_type": "markdown",
      "source": "Within this new table, I will merge the sales pipeline records to obtain information regarding sales agents working with the firm who opened contracts with the companies, which products were sold, and where the contract stands.",
      "metadata": {}
    },
    {
      "cell_type": "code",
      "source": "sec_prod=pd.merge(sec, pipe, how=\"left\", on=\"account\")\nsec_prod=sec_prod.drop(['sector', 'year_established', 'revenue', 'employees','subsidiary_of', 'office_location'], axis=1)\nsec_prod=sec_prod.sort_values(by=['account', 'sales_agent', 'product', 'engage_date'])\nprint(sec_prod)",
      "metadata": {
        "trusted": true
      },
      "outputs": [
        {
          "name": "stdout",
          "text": "        account opportunity_id       sales_agent       product deal_stage  \\\n19   Bubba Gump       VPG5E490         Boris Faz     GTX Basic   Engaging   \n50   Bubba Gump       CPVW06O2         Boris Faz    MG Special        Won   \n1    Bubba Gump       V5OK4V5I      Cassey Cress     GTX Basic        Won   \n27   Bubba Gump       74YVUL52      Cassey Cress     GTX Basic       Lost   \n33   Bubba Gump       8PUH80YZ      Cassey Cress     GTX Basic        Won   \n..          ...            ...               ...           ...        ...   \n687     Zotware       14PBBHSE  Violet Mclelland    MG Special        Won   \n716     Zotware       V8I2CE9V    Wilburn Farren     GTX Basic        Won   \n698     Zotware       4DUMR5WD    Wilburn Farren  GTX Plus Pro       Lost   \n739     Zotware       ZN8LHN9B    Wilburn Farren  GTX Plus Pro       Lost   \n756     Zotware       ZFXYBJEY    Wilburn Farren   MG Advanced        Won   \n\n    engage_date  close_date  close_value  \n19   2017-05-11         NaN          NaN  \n50   2017-10-04  2017-10-11         54.0  \n1    2016-12-09  2017-03-14        549.0  \n27   2017-06-14  2017-09-17          0.0  \n33   2017-07-25  2017-08-21        511.0  \n..          ...         ...          ...  \n687  2017-02-11  2017-05-08         49.0  \n716  2017-06-20  2017-09-20        506.0  \n698  2017-04-01  2017-04-09          0.0  \n739  2017-09-07  2017-11-17          0.0  \n756  2017-12-18  2017-12-24       3155.0  \n\n[757 rows x 8 columns]\n",
          "output_type": "stream"
        }
      ],
      "execution_count": 61
    },
    {
      "cell_type": "markdown",
      "source": "I will merge the product information records with this new table I created above to obtain the sales price per product. Once merged, I can caclulate how much revenue was created per contract.",
      "metadata": {}
    },
    {
      "cell_type": "code",
      "source": "sec_prod_rev=pd.merge(sec_prod,product, how=\"left\", on=\"product\")\nsec_prod_rev=sec_prod_rev.drop(['series'], axis=1)\nsec_prod_rev['revenue'] = sec_prod_rev['close_value']*sec_prod_rev['sales_price']\nprint(sec_prod_rev)",
      "metadata": {
        "trusted": true
      },
      "outputs": [
        {
          "name": "stdout",
          "text": "        account opportunity_id       sales_agent       product deal_stage  \\\n0    Bubba Gump       VPG5E490         Boris Faz     GTX Basic   Engaging   \n1    Bubba Gump       CPVW06O2         Boris Faz    MG Special        Won   \n2    Bubba Gump       V5OK4V5I      Cassey Cress     GTX Basic        Won   \n3    Bubba Gump       74YVUL52      Cassey Cress     GTX Basic       Lost   \n4    Bubba Gump       8PUH80YZ      Cassey Cress     GTX Basic        Won   \n..          ...            ...               ...           ...        ...   \n752     Zotware       14PBBHSE  Violet Mclelland    MG Special        Won   \n753     Zotware       V8I2CE9V    Wilburn Farren     GTX Basic        Won   \n754     Zotware       4DUMR5WD    Wilburn Farren  GTX Plus Pro       Lost   \n755     Zotware       ZN8LHN9B    Wilburn Farren  GTX Plus Pro       Lost   \n756     Zotware       ZFXYBJEY    Wilburn Farren   MG Advanced        Won   \n\n    engage_date  close_date  close_value  sales_price     revenue  \n0    2017-05-11         NaN          NaN        550.0         NaN  \n1    2017-10-04  2017-10-11         54.0         55.0      2970.0  \n2    2016-12-09  2017-03-14        549.0        550.0    301950.0  \n3    2017-06-14  2017-09-17          0.0        550.0         0.0  \n4    2017-07-25  2017-08-21        511.0        550.0    281050.0  \n..          ...         ...          ...          ...         ...  \n752  2017-02-11  2017-05-08         49.0         55.0      2695.0  \n753  2017-06-20  2017-09-20        506.0        550.0    278300.0  \n754  2017-04-01  2017-04-09          0.0       5482.0         0.0  \n755  2017-09-07  2017-11-17          0.0       5482.0         0.0  \n756  2017-12-18  2017-12-24       3155.0       3393.0  10704915.0  \n\n[757 rows x 10 columns]\n",
          "output_type": "stream"
        }
      ],
      "execution_count": 62
    },
    {
      "cell_type": "markdown",
      "source": "I will change the engage date and close date columns to date time in order to calculate time it took to close contract if won.",
      "metadata": {}
    },
    {
      "cell_type": "code",
      "source": "sec_prod_rev['close_date']=pd.to_datetime(sec_prod_rev['close_date'])\nsec_prod_rev['engage_date']=pd.to_datetime(sec_prod_rev['engage_date'])\nsec_prod_rev['time'] = sec_prod_rev['close_date']-sec_prod_rev['engage_date']\nprint(sec_prod_rev)",
      "metadata": {
        "trusted": true
      },
      "outputs": [
        {
          "name": "stdout",
          "text": "        account opportunity_id       sales_agent       product deal_stage  \\\n0    Bubba Gump       VPG5E490         Boris Faz     GTX Basic   Engaging   \n1    Bubba Gump       CPVW06O2         Boris Faz    MG Special        Won   \n2    Bubba Gump       V5OK4V5I      Cassey Cress     GTX Basic        Won   \n3    Bubba Gump       74YVUL52      Cassey Cress     GTX Basic       Lost   \n4    Bubba Gump       8PUH80YZ      Cassey Cress     GTX Basic        Won   \n..          ...            ...               ...           ...        ...   \n752     Zotware       14PBBHSE  Violet Mclelland    MG Special        Won   \n753     Zotware       V8I2CE9V    Wilburn Farren     GTX Basic        Won   \n754     Zotware       4DUMR5WD    Wilburn Farren  GTX Plus Pro       Lost   \n755     Zotware       ZN8LHN9B    Wilburn Farren  GTX Plus Pro       Lost   \n756     Zotware       ZFXYBJEY    Wilburn Farren   MG Advanced        Won   \n\n    engage_date close_date  close_value  sales_price     revenue    time  \n0    2017-05-11        NaT          NaN        550.0         NaN     NaT  \n1    2017-10-04 2017-10-11         54.0         55.0      2970.0  7 days  \n2    2016-12-09 2017-03-14        549.0        550.0    301950.0 95 days  \n3    2017-06-14 2017-09-17          0.0        550.0         0.0 95 days  \n4    2017-07-25 2017-08-21        511.0        550.0    281050.0 27 days  \n..          ...        ...          ...          ...         ...     ...  \n752  2017-02-11 2017-05-08         49.0         55.0      2695.0 86 days  \n753  2017-06-20 2017-09-20        506.0        550.0    278300.0 92 days  \n754  2017-04-01 2017-04-09          0.0       5482.0         0.0  8 days  \n755  2017-09-07 2017-11-17          0.0       5482.0         0.0 71 days  \n756  2017-12-18 2017-12-24       3155.0       3393.0  10704915.0  6 days  \n\n[757 rows x 11 columns]\n",
          "output_type": "stream"
        }
      ],
      "execution_count": 85
    },
    {
      "cell_type": "markdown",
      "source": "I specifically want to focus on the contracts that were won for the following analysis.",
      "metadata": {}
    },
    {
      "cell_type": "code",
      "source": "sec_prod_rev_time=sec_prod_rev[sec_prod_rev['deal_stage']=='Won']\nprint(sec_prod_rev_time)",
      "metadata": {
        "trusted": true
      },
      "outputs": [
        {
          "name": "stdout",
          "text": "        account opportunity_id         sales_agent         product deal_stage  \\\n1    Bubba Gump       CPVW06O2           Boris Faz      MG Special        Won   \n2    Bubba Gump       V5OK4V5I        Cassey Cress       GTX Basic        Won   \n4    Bubba Gump       8PUH80YZ        Cassey Cress       GTX Basic        Won   \n5    Bubba Gump       Y5A5G2L5        Cassey Cress       GTX Basic        Won   \n6    Bubba Gump       JK75NQBD        Cassey Cress  GTX Plus Basic        Won   \n..          ...            ...                 ...             ...        ...   \n749     Zotware       IT2UBEW4  Rosie Papadopoulos      MG Special        Won   \n751     Zotware       NHA6MNJF    Violet Mclelland     MG Advanced        Won   \n752     Zotware       14PBBHSE    Violet Mclelland      MG Special        Won   \n753     Zotware       V8I2CE9V      Wilburn Farren       GTX Basic        Won   \n756     Zotware       ZFXYBJEY      Wilburn Farren     MG Advanced        Won   \n\n    engage_date close_date  close_value  sales_price     revenue     time  \n1    2017-10-04 2017-10-11         54.0         55.0      2970.0   7 days  \n2    2016-12-09 2017-03-14        549.0        550.0    301950.0  95 days  \n4    2017-07-25 2017-08-21        511.0        550.0    281050.0  27 days  \n5    2017-08-27 2017-12-08        606.0        550.0    333300.0 103 days  \n6    2017-04-03 2017-05-20        997.0       1096.0   1092712.0  47 days  \n..          ...        ...          ...          ...         ...      ...  \n749  2017-07-24 2017-07-25         59.0         55.0      3245.0   1 days  \n751  2017-05-15 2017-09-26       3061.0       3393.0  10385973.0 134 days  \n752  2017-02-11 2017-05-08         49.0         55.0      2695.0  86 days  \n753  2017-06-20 2017-09-20        506.0        550.0    278300.0  92 days  \n756  2017-12-18 2017-12-24       3155.0       3393.0  10704915.0   6 days  \n\n[450 rows x 11 columns]\n",
          "output_type": "stream"
        }
      ],
      "execution_count": 76
    },
    {
      "cell_type": "markdown",
      "source": "The table below depicts average time it takes each agent to close a contract.",
      "metadata": {}
    },
    {
      "cell_type": "code",
      "source": "agent_time=sec_prod_rev_time.groupby('sales_agent')['time'].mean()\nprint(agent_time)",
      "metadata": {
        "trusted": true
      },
      "outputs": [
        {
          "name": "stdout",
          "text": "sales_agent\nAnna Snelling                  38 days 16:30:00\nBoris Faz            37 days 16:56:28.235294117\nCassey Cress         62 days 06:18:56.842105263\nCecily Lampkin       39 days 13:05:27.272727272\nCorliss Cosme                  37 days 03:00:00\nDaniell Hammack      52 days 19:38:10.909090909\nDarcel Schlecht      58 days 04:14:07.058823529\nDonn Cantrell                  42 days 00:00:00\nElease Gluck         53 days 19:38:10.909090909\nGarret Kinder        46 days 09:13:50.769230769\nGladys Colclough               77 days 21:20:00\nHayden Neloms                  27 days 05:20:00\nJames Ascencio       38 days 22:17:08.571428571\nJonathan Berthelot             69 days 00:00:00\nKami Bicknell        46 days 07:34:44.210526316\nKary Hendrixson      47 days 15:41:32.307692307\nLajuana Vencill                72 days 16:30:00\nMarkita Hansen       56 days 08:28:14.117647059\nMarty Freudenburg              61 days 00:00:00\nMaureen Marcano      62 days 13:42:51.428571429\nMoses Frase                    68 days 12:00:00\nNiesha Huffines      59 days 19:38:10.909090909\nReed Clapper                   55 days 22:00:00\nRosalina Dieter      71 days 06:51:25.714285714\nRosie Papadopoulos             48 days 00:00:00\nVersie Hillebrand              59 days 14:24:00\nVicki Laflamme       55 days 01:05:27.272727273\nViolet Mclelland               76 days 21:36:00\nWilburn Farren                 45 days 06:00:00\nZane Levy            39 days 18:56:50.526315789\nName: time, dtype: timedelta64[ns]\n",
          "output_type": "stream"
        }
      ],
      "execution_count": 78
    },
    {
      "cell_type": "markdown",
      "source": "The table below depicts which product is most popular per agent per contract.",
      "metadata": {}
    },
    {
      "cell_type": "code",
      "source": "pop_prod=sec_prod_rev_time.groupby(['sales_agent', 'product']).count()\nprint(pop_prod)",
      "metadata": {
        "trusted": true
      },
      "outputs": [
        {
          "name": "stdout",
          "text": "                              account  opportunity_id  deal_stage  \\\nsales_agent   product                                               \nAnna Snelling GTX Basic             3               3           3   \n              GTX Plus Pro          3               3           3   \n              MG Advanced           3               3           3   \n              MG Special            7               7           7   \nBoris Faz     GTX Basic             3               3           3   \n...                               ...             ...         ...   \nZane Levy     GTX Basic             5               5           5   \n              GTX Plus Basic        5               5           5   \n              GTX Plus Pro          3               3           3   \n              GTXPro                5               5           5   \n              MG Special            1               1           1   \n\n                              engage_date  close_date  close_value  \\\nsales_agent   product                                                \nAnna Snelling GTX Basic                 3           3            3   \n              GTX Plus Pro              3           3            3   \n              MG Advanced               3           3            3   \n              MG Special                7           7            7   \nBoris Faz     GTX Basic                 3           3            3   \n...                                   ...         ...          ...   \nZane Levy     GTX Basic                 5           5            5   \n              GTX Plus Basic            5           5            5   \n              GTX Plus Pro              3           3            3   \n              GTXPro                    5           5            5   \n              MG Special                1           1            1   \n\n                              sales_price  revenue  time  \nsales_agent   product                                     \nAnna Snelling GTX Basic                 3        3     3  \n              GTX Plus Pro              3        3     3  \n              MG Advanced               3        3     3  \n              MG Special                7        7     7  \nBoris Faz     GTX Basic                 3        3     3  \n...                                   ...      ...   ...  \nZane Levy     GTX Basic                 5        5     5  \n              GTX Plus Basic            5        5     5  \n              GTX Plus Pro              3        3     3  \n              GTXPro                    0        0     5  \n              MG Special                1        1     1  \n\n[142 rows x 9 columns]\n",
          "output_type": "stream"
        }
      ],
      "execution_count": 87
    },
    {
      "cell_type": "markdown",
      "source": "The table below depicts the products sold per company, excluding sales agent preferences.",
      "metadata": {}
    },
    {
      "cell_type": "code",
      "source": "comp_prod=w3.groupby(['account', 'product']).count()\nprint(comp_prod)",
      "metadata": {
        "trusted": true
      },
      "outputs": [
        {
          "name": "stdout",
          "text": "                               opportunity_id  sales_agent  deal_stage  \\\naccount        product                                                   \nBubba Gump     GTX Basic                    6            6           6   \n               GTX Plus Basic               7            7           7   \n               GTX Plus Pro                 2            2           2   \n               GTXPro                      11           11          11   \n               MG Advanced                  4            4           4   \n               MG Special                   6            6           6   \nCodehow        GTX Basic                   15           15          15   \n               GTX Plus Basic              15           15          15   \n               GTX Plus Pro                 7            7           7   \n               GTXPro                       8            8           8   \n               MG Advanced                 11           11          11   \n               MG Special                  16           16          16   \nDalttechnology GTX Basic                   11           11          11   \n               GTX Plus Basic               4            4           4   \n               GTX Plus Pro                 4            4           4   \n               GTXPro                       7            7           7   \n               MG Advanced                  3            3           3   \n               MG Special                  14           14          14   \nDontechi       GTX Basic                   17           17          17   \n               GTX Plus Basic               7            7           7   \n               GTX Plus Pro                 4            4           4   \n               GTXPro                      10           10          10   \n               MG Advanced                 13           13          13   \n               MG Special                  19           19          19   \nKan-code       GTK 500                      1            1           1   \n               GTX Basic                   26           26          26   \n               GTX Plus Basic              15           15          15   \n               GTX Plus Pro                17           17          17   \n               GTXPro                      26           26          26   \n               MG Advanced                 20           20          20   \n               MG Special                  10           10          10   \nScotfind       GTX Basic                   14           14          14   \n               GTX Plus Basic               7            7           7   \n               GTX Plus Pro                 9            9           9   \n               GTXPro                      13           13          13   \n               MG Advanced                 10           10          10   \n               MG Special                  14           14          14   \nZotware        GTX Basic                    7            7           7   \n               GTX Plus Basic               8            8           8   \n               GTX Plus Pro                 7            7           7   \n               GTXPro                      12           12          12   \n               MG Advanced                  9            9           9   \n               MG Special                   4            4           4   \n\n                               engage_date  close_date  close_value  \\\naccount        product                                                \nBubba Gump     GTX Basic                 6           6            6   \n               GTX Plus Basic            7           7            7   \n               GTX Plus Pro              2           2            2   \n               GTXPro                   11          11           11   \n               MG Advanced               4           4            4   \n               MG Special                6           6            6   \nCodehow        GTX Basic                15          15           15   \n               GTX Plus Basic           15          15           15   \n               GTX Plus Pro              7           7            7   \n               GTXPro                    8           8            8   \n               MG Advanced              11          11           11   \n               MG Special               16          16           16   \nDalttechnology GTX Basic                11          11           11   \n               GTX Plus Basic            4           4            4   \n               GTX Plus Pro              4           4            4   \n               GTXPro                    7           7            7   \n               MG Advanced               3           3            3   \n               MG Special               14          14           14   \nDontechi       GTX Basic                17          17           17   \n               GTX Plus Basic            7           7            7   \n               GTX Plus Pro              4           4            4   \n               GTXPro                   10          10           10   \n               MG Advanced              13          13           13   \n               MG Special               19          19           19   \nKan-code       GTK 500                   1           1            1   \n               GTX Basic                26          26           26   \n               GTX Plus Basic           15          15           15   \n               GTX Plus Pro             17          17           17   \n               GTXPro                   26          26           26   \n               MG Advanced              20          20           20   \n               MG Special               10          10           10   \nScotfind       GTX Basic                14          14           14   \n               GTX Plus Basic            7           7            7   \n               GTX Plus Pro              9           9            9   \n               GTXPro                   13          13           13   \n               MG Advanced              10          10           10   \n               MG Special               14          14           14   \nZotware        GTX Basic                 7           7            7   \n               GTX Plus Basic            8           8            8   \n               GTX Plus Pro              7           7            7   \n               GTXPro                   12          12           12   \n               MG Advanced               9           9            9   \n               MG Special                4           4            4   \n\n                               sales_price  revenue  time  \naccount        product                                     \nBubba Gump     GTX Basic                 6        6     6  \n               GTX Plus Basic            7        7     7  \n               GTX Plus Pro              2        2     2  \n               GTXPro                    0        0    11  \n               MG Advanced               4        4     4  \n               MG Special                6        6     6  \nCodehow        GTX Basic                15       15    15  \n               GTX Plus Basic           15       15    15  \n               GTX Plus Pro              7        7     7  \n               GTXPro                    0        0     8  \n               MG Advanced              11       11    11  \n               MG Special               16       16    16  \nDalttechnology GTX Basic                11       11    11  \n               GTX Plus Basic            4        4     4  \n               GTX Plus Pro              4        4     4  \n               GTXPro                    0        0     7  \n               MG Advanced               3        3     3  \n               MG Special               14       14    14  \nDontechi       GTX Basic                17       17    17  \n               GTX Plus Basic            7        7     7  \n               GTX Plus Pro              4        4     4  \n               GTXPro                    0        0    10  \n               MG Advanced              13       13    13  \n               MG Special               19       19    19  \nKan-code       GTK 500                   1        1     1  \n               GTX Basic                26       26    26  \n               GTX Plus Basic           15       15    15  \n               GTX Plus Pro             17       17    17  \n               GTXPro                    0        0    26  \n               MG Advanced              20       20    20  \n               MG Special               10       10    10  \nScotfind       GTX Basic                14       14    14  \n               GTX Plus Basic            7        7     7  \n               GTX Plus Pro              9        9     9  \n               GTXPro                    0        0    13  \n               MG Advanced              10       10    10  \n               MG Special               14       14    14  \nZotware        GTX Basic                 7        7     7  \n               GTX Plus Basic            8        8     8  \n               GTX Plus Pro              7        7     7  \n               GTXPro                    0        0    12  \n               MG Advanced               9        9     9  \n               MG Special                4        4     4  \n",
          "output_type": "stream"
        }
      ],
      "execution_count": 88
    },
    {
      "cell_type": "markdown",
      "source": "The table depicts the revenue each sales agent brought in across all companies within the software sector.",
      "metadata": {}
    },
    {
      "cell_type": "code",
      "source": "#what is total revenue for agent\nw6=w3.groupby('sales_agent')['revenue'].sum()\nprint(w6)",
      "metadata": {
        "trusted": true
      },
      "outputs": [
        {
          "name": "stdout",
          "text": "sales_agent\nAnna Snelling         121643175.0\nBoris Faz             124838337.0\nCassey Cress           87322034.0\nCecily Lampkin         43576713.0\nCorliss Cosme         148213044.0\nDaniell Hammack         3894222.0\nDarcel Schlecht       155344592.0\nDonn Cantrell         106635889.0\nElease Gluck           71416808.0\nGarret Kinder          41504425.0\nGladys Colclough       42893590.0\nHayden Neloms         130598212.0\nJames Ascencio        221014542.0\nJonathan Berthelot     15842683.0\nKami Bicknell          96957032.0\nKary Hendrixson        90748188.0\nLajuana Vencill        93533551.0\nMarkita Hansen         45361865.0\nMarty Freudenburg      53519874.0\nMaureen Marcano        94614605.0\nMoses Frase            57949698.0\nNiesha Huffines         6302192.0\nReed Clapper          235181648.0\nRosalina Dieter       714254996.0\nRosie Papadopoulos     40884290.0\nVersie Hillebrand      23138257.0\nVicki Laflamme         88017047.0\nViolet Mclelland       34751594.0\nWilburn Farren         11237865.0\nZane Levy             103137862.0\nName: revenue, dtype: float64\n",
          "output_type": "stream"
        }
      ],
      "execution_count": 82
    },
    {
      "cell_type": "markdown",
      "source": "The table below depicts the revenue each company within the software sector created for the firm.",
      "metadata": {}
    },
    {
      "cell_type": "code",
      "source": "comp_rev=w3.groupby('account')['revenue'].sum()\nprint(comp_rev)",
      "metadata": {
        "trusted": true
      },
      "outputs": [
        {
          "name": "stdout",
          "text": "account\nBubba Gump        1.179192e+08\nCodehow           3.482952e+08\nDalttechnology    1.705135e+08\nDontechi          2.654491e+08\nKan-code          1.456216e+09\nScotfind          4.090674e+08\nZotware           3.368679e+08\nName: revenue, dtype: float64\n",
          "output_type": "stream"
        }
      ],
      "execution_count": 89
    },
    {
      "cell_type": "code",
      "source": "",
      "metadata": {
        "trusted": true
      },
      "outputs": [],
      "execution_count": null
    }
  ]
}